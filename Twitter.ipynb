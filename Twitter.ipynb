{
 "cells": [
  {
   "cell_type": "code",
   "execution_count": 23,
   "metadata": {},
   "outputs": [],
   "source": [
    "import twitter"
   ]
  },
  {
   "cell_type": "code",
   "execution_count": 5,
   "metadata": {},
   "outputs": [],
   "source": [
    "api = twitter.Api(consumer_key='',\n",
    "                      consumer_secret='',\n",
    "                      access_token_key='',\n",
    "                      access_token_secret='')"
   ]
  },
  {
   "cell_type": "code",
   "execution_count": 6,
   "metadata": {
    "scrolled": false
   },
   "outputs": [
    {
     "name": "stdout",
     "output_type": "stream",
     "text": [
      "{\"created_at\": \"Wed Nov 06 14:03:45 +0000 2019\", \"default_profile\": true, \"default_profile_image\": true, \"id\": 1192080090055745536, \"id_str\": \"1192080090055745536\", \"name\": \"Aga\", \"profile_background_color\": \"F5F8FA\", \"profile_image_url\": \"http://abs.twimg.com/sticky/default_profile_images/default_profile_normal.png\", \"profile_image_url_https\": \"https://abs.twimg.com/sticky/default_profile_images/default_profile_normal.png\", \"profile_link_color\": \"1DA1F2\", \"profile_sidebar_border_color\": \"C0DEED\", \"profile_sidebar_fill_color\": \"DDEEF6\", \"profile_text_color\": \"333333\", \"profile_use_background_image\": true, \"screen_name\": \"Aga96605377\"}\n"
     ]
    }
   ],
   "source": [
    "print(api.VerifyCredentials())"
   ]
  },
  {
   "cell_type": "code",
   "execution_count": 7,
   "metadata": {},
   "outputs": [],
   "source": [
    "x =api.GetSearch(\n",
    "    raw_query=\"q=%23brexit%20&result_type=recent\")"
   ]
  },
  {
   "cell_type": "code",
   "execution_count": 5,
   "metadata": {},
   "outputs": [
    {
     "data": {
      "text/plain": [
       "[Status(ID=1193955375898415104, ScreenName=RoyHStAsaph, Created=Mon Nov 11 18:15:18 +0000 2019, Text='RT @RCorbettMEP: .\\nSo, #Farage, #Johnson &amp; #Trump are now in an open alliance to force through #Brexit and  send £500 million per week from…'),\n",
       " Status(ID=1193955371754381313, ScreenName=ReadSmall, Created=Mon Nov 11 18:15:17 +0000 2019, Text='RT @MarkWeightman: @StandUp4Brexit @malfouru48 @BorisJohnson A @Conservatives #Brexit is vassalage. No #brexit at all.'),\n",
       " Status(ID=1193955365324574720, ScreenName=TCiiLondon, Created=Mon Nov 11 18:15:16 +0000 2019, Text='UK employers still hiring despite Brexit uncertainty – latest report. https://t.co/QvP5e8s0f3 #recruitment #brexit… https://t.co/4Nrg0z2Tgt'),\n",
       " Status(ID=1193955359662231553, ScreenName=PaulWhelan745, Created=Mon Nov 11 18:15:15 +0000 2019, Text='RT @Haggis_UK: Sam Gyimah - Every #brexit option leaves us weaker &amp; poorer as a country... so our best deal is our current deal. The Tory b…'),\n",
       " Status(ID=1193955354842927107, ScreenName=Alba40, Created=Mon Nov 11 18:15:13 +0000 2019, Text='RT @MPF1419: Let me repeat. a Farage and Johnson alliance is on the spectrum of politics that HITLER was at the far end of. How can any san…'),\n",
       " Status(ID=1193955336828440577, ScreenName=Gbushuk65Bush, Created=Mon Nov 11 18:15:09 +0000 2019, Text='RT @Gbushuk65Bush: To the reasonable Remainers out there,who voted Remain but still believe in Democracy. Voting @UKLabour or @LibDems will…'),\n",
       " Status(ID=1193955336824279040, ScreenName=Smiggywiggy, Created=Mon Nov 11 18:15:09 +0000 2019, Text='RT @_AnimalAdvocate: “We can judge the heart of a man by his treatment of animals” Immanuel Kant\\n\\n#VoteTactically for someone with #compass…'),\n",
       " Status(ID=1193955334282522624, ScreenName=Chalkscorriette, Created=Mon Nov 11 18:15:08 +0000 2019, Text='RT @LBC: Eddie Mair: \"Why don\\'t you open your cheque book and refund the money?\"\\n\\n@eddiemair | @Nigel_Farage | #Brexit \\nhttps://t.co/Xs6Zsz…'),\n",
       " Status(ID=1193955333380726784, ScreenName=maureenwebster9, Created=Mon Nov 11 18:15:08 +0000 2019, Text='RT @CeleryVase: Lifelong Spiv, @Nigel_Farage, has admitted LIVE on @LBC that he conned 3000 gullible planks who applied to be PPCs in his p…'),\n",
       " Status(ID=1193955325176614912, ScreenName=weehalfpintt, Created=Mon Nov 11 18:15:06 +0000 2019, Text='RT @CeleryVase: Lifelong Spiv, @Nigel_Farage, has admitted LIVE on @LBC that he conned 3000 gullible planks who applied to be PPCs in his p…'),\n",
       " Status(ID=1193955323951890432, ScreenName=sjsampford, Created=Mon Nov 11 18:15:06 +0000 2019, Text='RT @LBC: Eddie Mair: \"Why don\\'t you open your cheque book and refund the money?\"\\n\\n@eddiemair | @Nigel_Farage | #Brexit \\nhttps://t.co/Xs6Zsz…'),\n",
       " Status(ID=1193955321124921349, ScreenName=tellittothomas, Created=Mon Nov 11 18:15:05 +0000 2019, Text=\"@LBC @eddiemair interesting that caller refers to cost of Johnson's Brexit and #osterity. Could the costs of… https://t.co/OEjTllSUFo\"),\n",
       " Status(ID=1193955318029524999, ScreenName=flybynightpress, Created=Mon Nov 11 18:15:05 +0000 2019, Text='RT @Wera_Hobhouse: This confirms that @Conservatives are now indistinguishable from \\u2066\\u2066@brexitparty_uk\\u2069 after \\n#AllNationConservatives have…'),\n",
       " Status(ID=1193955305891278849, ScreenName=RadioLemberg, Created=Mon Nov 11 18:15:02 +0000 2019, Text='RT @mhmck: Boris Johnson is suppressing the Russian influence report because it establishes that Londongrad corruption has overwhelmed many…'),\n",
       " Status(ID=1193955302779097088, ScreenName=MisterBlok, Created=Mon Nov 11 18:15:01 +0000 2019, Text=\"If @jeremycorbyn doesn't get that he's in a fight for democracy now, then maybe Britain deserves decades of authori… https://t.co/1k9estXyHA\")]"
      ]
     },
     "execution_count": 5,
     "metadata": {},
     "output_type": "execute_result"
    }
   ],
   "source": [
    "x"
   ]
  },
  {
   "cell_type": "code",
   "execution_count": 12,
   "metadata": {},
   "outputs": [
    {
     "data": {
      "text/plain": [
       "'RT @CeleryVase: Lifelong Spiv, @Nigel_Farage, has admitted LIVE on @LBC that he conned 3000 gullible planks who applied to be PPCs in his p…'"
      ]
     },
     "execution_count": 12,
     "metadata": {},
     "output_type": "execute_result"
    }
   ],
   "source": [
    "x[9].text"
   ]
  },
  {
   "cell_type": "code",
   "execution_count": 14,
   "metadata": {},
   "outputs": [],
   "source": [
    "import nltk"
   ]
  },
  {
   "cell_type": "code",
   "execution_count": 15,
   "metadata": {},
   "outputs": [
    {
     "name": "stderr",
     "output_type": "stream",
     "text": [
      "[nltk_data] Downloading package vader_lexicon to\n",
      "[nltk_data]     /home/aga/nltk_data...\n"
     ]
    },
    {
     "data": {
      "text/plain": [
       "True"
      ]
     },
     "execution_count": 15,
     "metadata": {},
     "output_type": "execute_result"
    }
   ],
   "source": [
    "nltk.download('vader_lexicon')"
   ]
  },
  {
   "cell_type": "code",
   "execution_count": 9,
   "metadata": {},
   "outputs": [],
   "source": [
    "def nltk_sentiment(sentence):\n",
    "    from nltk.sentiment.vader import SentimentIntensityAnalyzer\n",
    "    \n",
    "    nltk_sentiment = SentimentIntensityAnalyzer()\n",
    "    score = nltk_sentiment.polarity_scores(sentence)\n",
    "    return score"
   ]
  },
  {
   "cell_type": "code",
   "execution_count": 37,
   "metadata": {},
   "outputs": [
    {
     "name": "stdout",
     "output_type": "stream",
     "text": [
      "{'neg': 0.0, 'neu': 1.0, 'pos': 0.0, 'compound': 0.0}\n",
      "RT @RCorbettMEP: .\n",
      "So, #Farage, #Johnson &amp; #Trump are now in an open alliance to force through #Brexit and  send £500 million per week from…\n",
      "{'neg': 0.155, 'neu': 0.845, 'pos': 0.0, 'compound': -0.296}\n",
      "RT @MarkWeightman: @StandUp4Brexit @malfouru48 @BorisJohnson A @Conservatives #Brexit is vassalage. No #brexit at all.\n",
      "{'neg': 0.0, 'neu': 0.855, 'pos': 0.145, 'compound': 0.2584}\n",
      "UK employers still hiring despite Brexit uncertainty – latest report. https://t.co/QvP5e8s0f3 #recruitment #brexit… https://t.co/4Nrg0z2Tgt\n",
      "{'neg': 0.169, 'neu': 0.69, 'pos': 0.14, 'compound': 0.0202}\n",
      "RT @Haggis_UK: Sam Gyimah - Every #brexit option leaves us weaker &amp; poorer as a country... so our best deal is our current deal. The Tory b…\n",
      "{'neg': 0.0, 'neu': 1.0, 'pos': 0.0, 'compound': 0.0}\n",
      "RT @MPF1419: Let me repeat. a Farage and Johnson alliance is on the spectrum of politics that HITLER was at the far end of. How can any san…\n",
      "{'neg': 0.0, 'neu': 1.0, 'pos': 0.0, 'compound': 0.0}\n",
      "RT @Gbushuk65Bush: To the reasonable Remainers out there,who voted Remain but still believe in Democracy. Voting @UKLabour or @LibDems will…\n",
      "{'neg': 0.0, 'neu': 1.0, 'pos': 0.0, 'compound': 0.0}\n",
      "RT @_AnimalAdvocate: “We can judge the heart of a man by his treatment of animals” Immanuel Kant\n",
      "\n",
      "#VoteTactically for someone with #compass…\n",
      "{'neg': 0.0, 'neu': 1.0, 'pos': 0.0, 'compound': 0.0}\n",
      "RT @LBC: Eddie Mair: \"Why don't you open your cheque book and refund the money?\"\n",
      "\n",
      "@eddiemair | @Nigel_Farage | #Brexit \n",
      "https://t.co/Xs6Zsz…\n",
      "{'neg': 0.097, 'neu': 0.849, 'pos': 0.054, 'compound': -0.2732}\n",
      "RT @CeleryVase: Lifelong Spiv, @Nigel_Farage, has admitted LIVE on @LBC that he conned 3000 gullible planks who applied to be PPCs in his p…\n",
      "{'neg': 0.097, 'neu': 0.849, 'pos': 0.054, 'compound': -0.2732}\n",
      "RT @CeleryVase: Lifelong Spiv, @Nigel_Farage, has admitted LIVE on @LBC that he conned 3000 gullible planks who applied to be PPCs in his p…\n",
      "{'neg': 0.0, 'neu': 1.0, 'pos': 0.0, 'compound': 0.0}\n",
      "RT @LBC: Eddie Mair: \"Why don't you open your cheque book and refund the money?\"\n",
      "\n",
      "@eddiemair | @Nigel_Farage | #Brexit \n",
      "https://t.co/Xs6Zsz…\n",
      "{'neg': 0.0, 'neu': 0.863, 'pos': 0.137, 'compound': 0.4019}\n",
      "@LBC @eddiemair interesting that caller refers to cost of Johnson's Brexit and #osterity. Could the costs of… https://t.co/OEjTllSUFo\n",
      "{'neg': 0.0, 'neu': 1.0, 'pos': 0.0, 'compound': 0.0}\n",
      "RT @Wera_Hobhouse: This confirms that @Conservatives are now indistinguishable from ⁦⁦@brexitparty_uk⁩ after \n",
      "#AllNationConservatives have…\n",
      "{'neg': 0.0, 'neu': 0.938, 'pos': 0.062, 'compound': 0.0516}\n",
      "RT @mhmck: Boris Johnson is suppressing the Russian influence report because it establishes that Londongrad corruption has overwhelmed many…\n",
      "{'neg': 0.126, 'neu': 0.874, 'pos': 0.0, 'compound': -0.3818}\n",
      "If @jeremycorbyn doesn't get that he's in a fight for democracy now, then maybe Britain deserves decades of authori… https://t.co/1k9estXyHA\n"
     ]
    }
   ],
   "source": [
    "# nltk_results = [nltk_sentiment(row) for x.text in x]\n",
    "# results_df = pd.DataFrame(nltk_results)\n",
    "# text_df = pd.DataFrame(dataset, columns = ['text'])\n",
    "# nltk_df = text_df.join(results_dfi\n",
    "for tweet in x:\n",
    "    print(nltk_sentiment(tweet.text))\n",
    "    print(tweet.text)\n"
   ]
  },
  {
   "cell_type": "code",
   "execution_count": 12,
   "metadata": {},
   "outputs": [],
   "source": [
    "def count_sentiment(tweets):\n",
    "    positive = 0\n",
    "    negative = 0\n",
    "    neutral = 0\n",
    "    for tweet in tweets:\n",
    "        if nltk_sentiment(tweet.text)['compound'] > 0:\n",
    "            positive += 1\n",
    "        elif nltk_sentiment(tweet.text)['compound'] < 0:\n",
    "            negative += 1\n",
    "        else:\n",
    "            neutral += 1\n",
    "    return [positive, negative, neutral]"
   ]
  },
  {
   "cell_type": "code",
   "execution_count": 29,
   "metadata": {},
   "outputs": [],
   "source": [
    "counts = count_sentiment(x)"
   ]
  },
  {
   "cell_type": "code",
   "execution_count": 17,
   "metadata": {},
   "outputs": [],
   "source": []
  },
  {
   "cell_type": "code",
   "execution_count": 24,
   "metadata": {},
   "outputs": [],
   "source": [
    "%matplotlib inline\n",
    "import matplotlib.pyplot as plt\n",
    "import numpy as np"
   ]
  },
  {
   "cell_type": "code",
   "execution_count": 48,
   "metadata": {},
   "outputs": [],
   "source": [
    "label = ['positive', 'negative', 'neutral']\n",
    "index = np.arange(len(label))\n",
    "def plot_bar_x():\n",
    "    # this is for plotting purpose\n",
    "    index = np.arange(len(label))\n",
    "    bar = plt.bar(index, counts)\n",
    "    bar[0].set_color('g')\n",
    "    bar[1].set_color('r')\n",
    "    bar[2].set_color('b')\n",
    "    plt.xlabel('Sentiment', fontsize=10)\n",
    "    plt.ylabel('No of tweets', fontsize=10)\n",
    "    plt.xticks(index, label, fontsize=10, rotation=30)\n",
    "    plt.title('Sentiment of latest brexit tweets')\n",
    "    plt.show()"
   ]
  },
  {
   "cell_type": "code",
   "execution_count": 49,
   "metadata": {},
   "outputs": [
    {
     "data": {
      "image/png": "[encoded data removed]",
      "text/plain": [
       "<Figure size 432x288 with 1 Axes>"
      ]
     },
     "metadata": {
      "needs_background": "light"
     },
     "output_type": "display_data"
    }
   ],
   "source": [
    "plot_bar_x()"
   ]
  },
  {
   "cell_type": "code",
   "execution_count": null,
   "metadata": {},
   "outputs": [],
   "source": []
  }
 ],
 "metadata": {
  "kernelspec": {
   "display_name": "Python 3",
   "language": "python",
   "name": "python3"
  },
  "language_info": {
   "codemirror_mode": {
    "name": "ipython",
    "version": 3
   },
   "file_extension": ".py",
   "mimetype": "text/x-python",
   "name": "python",
   "nbconvert_exporter": "python",
   "pygments_lexer": "ipython3",
   "version": "3.7.3"
  }
 },
 "nbformat": 4,
 "nbformat_minor": 2
}
