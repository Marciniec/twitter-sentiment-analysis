{
 "cells": [
  {
   "cell_type": "code",
   "execution_count": 2,
   "metadata": {},
   "outputs": [],
   "source": [
    "import twitter"
   ]
  },
  {
   "cell_type": "code",
   "execution_count": 3,
   "metadata": {},
   "outputs": [],
   "source": [
    "api = twitter.Api(consumer_key='',\n",
    "                      consumer_secret='',\n",
    "                      access_token_key='',\n",
    "                      access_token_secret='',\n",
    "                  tweet_mode='')"
   ]
  },
  {
   "cell_type": "code",
   "execution_count": 47,
   "metadata": {
    "scrolled": false
   },
   "outputs": [
    {
     "name": "stdout",
     "output_type": "stream",
     "text": [
      "{\"created_at\": \"Wed Oct 23 13:27:35 +0000 2019\", \"default_profile\": true, \"default_profile_image\": true, \"description\": \"I want to pass explo class\", \"id\": 1186997330458959872, \"id_str\": \"1186997330458959872\", \"name\": \"AnnaExplorer\", \"profile_background_color\": \"F5F8FA\", \"profile_image_url\": \"http://abs.twimg.com/sticky/default_profile_images/default_profile_normal.png\", \"profile_image_url_https\": \"https://abs.twimg.com/sticky/default_profile_images/default_profile_normal.png\", \"profile_link_color\": \"1DA1F2\", \"profile_sidebar_border_color\": \"C0DEED\", \"profile_sidebar_fill_color\": \"DDEEF6\", \"profile_text_color\": \"333333\", \"profile_use_background_image\": true, \"screen_name\": \"ExplorerAnna\"}\n"
     ]
    }
   ],
   "source": [
    "print(api.VerifyCredentials())"
   ]
  },
  {
   "cell_type": "code",
   "execution_count": 64,
   "metadata": {},
   "outputs": [],
   "source": [
    "x =api.GetSearch(\n",
    "    raw_query=\"q=%23brexit%20&result_type=recent\")"
   ]
  },
  {
   "cell_type": "code",
   "execution_count": 67,
   "metadata": {},
   "outputs": [
    {
     "data": {
      "text/plain": [
       "[Status(ID=1192086306551140353, ScreenName=GeodanNew, Created=Wed Nov 06 14:28:18 +0000 2019, Text='RT @patcondell: The #Tories want to keep us as closely tied to the #EU as possible (while falsely claiming to have delivered #Brexit) so th…'),\n",
       " Status(ID=1192086298611388416, ScreenName=WaddyIsRight, Created=Wed Nov 06 14:28:16 +0000 2019, Text=\"#Brexit! #UkElection! #ImpeachmentInquiry! You name it - it's in this week's Newsmaker interview @AM1480WLEA https://t.co/ozx3AoZgua #impeachment #UKelection2019 #borisjohnson #NigelFarage #BrexitDeal #Brexitcast #Conservative #Conservatives #ConservativeParty #JeremyCorbyn #MAGA\"),\n",
       " Status(ID=1192086295172067328, ScreenName=WaiKamachi, Created=Wed Nov 06 14:28:15 +0000 2019, Text='RT @thatginamiller: All concerned about UK democracy &amp; security should send a message to @BorisJohnson demanding publication of report sign…'),\n",
       " Status(ID=1192086288415051776, ScreenName=ziggyc79, Created=Wed Nov 06 14:28:13 +0000 2019, Text='RT @RachelEden: If you elect me I will back a final say vote on #Brexit and I will campaign to remain.\\n#PuttingRdgWest1st\\n #VoteLabour 12 D…'),\n",
       " Status(ID=1192086285009276928, ScreenName=FraserKeeton, Created=Wed Nov 06 14:28:12 +0000 2019, Text='RT @GoodwinMJ: \"Would you support or oppose the Conservatives making a pact with the #Brexit Party so they do not stand against each other?…'),\n",
       " Status(ID=1192086270790504448, ScreenName=Pauline_Hardman, Created=Wed Nov 06 14:28:09 +0000 2019, Text='RT @HatsOfDefiance: #Breaking: #JamesCleverly completes an interview without telling a single lie. \\n\\nI know...\\n\\n@KayBurley #KayBurley #Wedn…'),\n",
       " Status(ID=1192086249001148418, ScreenName=Zubrmeister, Created=Wed Nov 06 14:28:04 +0000 2019, Text='RT @patcondell: If you want to kill #Brexit, vote #Tory. If you want to kill Britain, vote #Labour.'),\n",
       " Status(ID=1192086228465836032, ScreenName=blaylockd1, Created=Wed Nov 06 14:27:59 +0000 2019, Text=\"RT @Start360org: @QUBelfast's John McGarry addressing the #peaceIV2019 conference on the implications of #brexit on peace-building and bord…\"),\n",
       " Status(ID=1192086224581931009, ScreenName=WilsonValet, Created=Wed Nov 06 14:27:58 +0000 2019, Text='Never mind #brexit or all the #trans #TERF carry on! \\nLet’s think about the big issues, who’s going to stand in for @RachelRileyRR when maternity leave starts ? 🤷🏼\\u200d♂️'),\n",
       " Status(ID=1192086211013287937, ScreenName=MichielScheffer, Created=Wed Nov 06 14:27:55 +0000 2019, Text='Waarbij uit onvermogen ook maar iets waar te maken, zoals #brexit, de @conservatives een riool aan leugens, beledigingen en schandalen openen. Ik ga van 9 tot 12 december op campagne met de @LibDems in mijn geboortestad #Stockport https://t.co/Z6CSXv4RA0'),\n",
       " Status(ID=1192086207922147328, ScreenName=websterssay, Created=Wed Nov 06 14:27:54 +0000 2019, Text='RT @patcondell: He’s right. Labour’s #Brexit stance isn’t complicated. It’s downright dishonest and treacherous, and it spits in the eye of…'),\n",
       " Status(ID=1192086202893131777, ScreenName=NeilPollyTicks, Created=Wed Nov 06 14:27:53 +0000 2019, Text=\"RT @Rachel5742: https://t.co/v0sMPxGkN3\\nSaid many times #TacticalVoting is the only way &amp; @BestForBritain will advise on how.\\nThat doesn't…\"),\n",
       " Status(ID=1192086201995538432, ScreenName=NPOMMERET, Created=Wed Nov 06 14:27:53 +0000 2019, Text='RT @CerdagneFrance: Les bobos \"progressistes\" français ne peuvent s\\'empêcher de donner des leçons à la terre entière.\\nLe #Brexit ? \"C\\'est n…'),\n",
       " Status(ID=1192086195112685569, ScreenName=FertilityNUK, Created=Wed Nov 06 14:27:51 +0000 2019, Text=\"RT @BioNewsUK: Due to the general election, PET's petition to #ExtendTheLimit for social #EggFreezing is being forced to close tomorrow 6 N…\"),\n",
       " Status(ID=1192086159087874048, ScreenName=DavidHo34435012, Created=Wed Nov 06 14:27:42 +0000 2019, Text='RT @DarrenPlymouth: Sky News = Fake News\\n\\nKay Burley should be called out for empty chairing the Tory Chairman claiming he was ducking an i…')]"
      ]
     },
     "execution_count": 67,
     "metadata": {},
     "output_type": "execute_result"
    }
   ],
   "source": [
    "x"
   ]
  },
  {
   "cell_type": "code",
   "execution_count": 40,
   "metadata": {},
   "outputs": [],
   "source": [
    "import nltk"
   ]
  },
  {
   "cell_type": "code",
   "execution_count": null,
   "metadata": {},
   "outputs": [],
   "source": []
  }
 ],
 "metadata": {
  "kernelspec": {
   "display_name": "Python 3",
   "language": "python",
   "name": "python3"
  },
  "language_info": {
   "codemirror_mode": {
    "name": "ipython",
    "version": 3
   },
   "file_extension": ".py",
   "mimetype": "text/x-python",
   "name": "python",
   "nbconvert_exporter": "python",
   "pygments_lexer": "ipython3",
   "version": "3.6.8"
  }
 },
 "nbformat": 4,
 "nbformat_minor": 2
}
